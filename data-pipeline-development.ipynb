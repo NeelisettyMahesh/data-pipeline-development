{
 "cells": [
  {
   "cell_type": "code",
   "execution_count": 7,
   "id": "cc2c1bb3-0745-4bfc-83b9-dc0c7f5fa51e",
   "metadata": {},
   "outputs": [
    {
     "name": "stdout",
     "output_type": "stream",
     "text": [
      "ETL process completed. Files saved.\n"
     ]
    }
   ],
   "source": [
    "import pandas as pd\n",
    "from sklearn.preprocessing import LabelEncoder, StandardScaler\n",
    "from sklearn.model_selection import train_test_split\n",
    "df = pd.read_csv(\"data (1).csv\")\n",
    "df = df.drop(columns=[\"id\", \"Unnamed: 32\"])\n",
    "label_encoder = LabelEncoder()\n",
    "df[\"diagnosis\"] = label_encoder.fit_transform(df[\"diagnosis\"]) \n",
    "X = df.drop(\"diagnosis\", axis=1)\n",
    "y = df[\"diagnosis\"]\n",
    "scaler = StandardScaler()\n",
    "X_scaled = scaler.fit_transform(X)\n",
    "X_train, X_test, y_train, y_test = train_test_split(X_scaled, y, test_size=0.2, random_state=42)\n",
    "X_train_df = pd.DataFrame(X_train, columns=X.columns)\n",
    "X_test_df = pd.DataFrame(X_test, columns=X.columns)\n",
    "X_train_df.to_csv(\"X_train_transformed.csv\", index=False)\n",
    "X_test_df.to_csv(\"X_test_transformed.csv\", index=False)\n",
    "y_train.to_csv(\"y_train.csv\", index=False)\n",
    "y_test.to_csv(\"y_test.csv\", index=False)\n",
    "\n",
    "print(\"ETL process completed. Files saved.\")\n"
   ]
  },
  {
   "cell_type": "code",
   "execution_count": null,
   "id": "97406240-c9b2-4625-bfe1-4717ad79150f",
   "metadata": {},
   "outputs": [],
   "source": []
  }
 ],
 "metadata": {
  "kernelspec": {
   "display_name": "Python [conda env:a1]",
   "language": "python",
   "name": "conda-env-a1-py"
  },
  "language_info": {
   "codemirror_mode": {
    "name": "ipython",
    "version": 3
   },
   "file_extension": ".py",
   "mimetype": "text/x-python",
   "name": "python",
   "nbconvert_exporter": "python",
   "pygments_lexer": "ipython3",
   "version": "3.13.5"
  }
 },
 "nbformat": 4,
 "nbformat_minor": 5
}
