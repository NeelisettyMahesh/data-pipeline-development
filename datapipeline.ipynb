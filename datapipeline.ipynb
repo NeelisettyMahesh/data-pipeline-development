{
 "cells": [
  {
   "cell_type": "code",
   "execution_count": 5,
   "id": "b2699ca4-47c3-4428-9abb-d9dbfcb6bf46",
   "metadata": {},
   "outputs": [
    {
     "name": "stdout",
     "output_type": "stream",
     "text": [
      "Original Dataset:\n",
      "       Name  Gender  StudyHours  Attendance Passed\n",
      "0    Alice  Female        15.0          90    Yes\n",
      "1      Bob    Male        10.0          80     No\n",
      "2  Charlie    Male         NaN          70     No\n",
      "3    David    Male         8.0          60     No\n",
      "4      Eve  Female        12.0          85    Yes\n",
      "5    Frank    Male         NaN          75     No\n",
      "6    Grace  Female        14.0          95    Yes\n",
      "7    Heidi  Female        11.0          88    Yes\n",
      "\n",
      "Processed Training Features:\n",
      "    Gender  StudyHours  Attendance\n",
      "0     0.0    1.632993    0.888942\n",
      "7     0.0   -0.326599    0.704226\n",
      "2     1.0    0.000000   -0.958210\n",
      "4     0.0    0.163299    0.427154\n",
      "3     1.0   -1.796292   -1.881786\n",
      "6     0.0    1.143095    1.350730\n",
      "\n",
      "Processed Training Labels:\n",
      " [1 1 0 1 0 1]\n"
     ]
    }
   ],
   "source": [
    "import pandas as pd\n",
    "import numpy as np\n",
    "from sklearn.preprocessing import StandardScaler, LabelEncoder\n",
    "from sklearn.impute import SimpleImputer\n",
    "from sklearn.pipeline import Pipeline\n",
    "from sklearn.compose import ColumnTransformer\n",
    "from sklearn.model_selection import train_test_split\n",
    "df = pd.read_csv(\"student_performance.csv\")\n",
    "print(\"Original Dataset:\\n\", df)\n",
    "X = df[['Gender', 'StudyHours', 'Attendance']].copy()\n",
    "y = df['Passed']\n",
    "gender_encoder = LabelEncoder()\n",
    "X['Gender'] = gender_encoder.fit_transform(X['Gender'])\n",
    "numeric_features = ['StudyHours', 'Attendance']\n",
    "numeric_transformer = Pipeline(steps=[\n",
    "    ('imputer', SimpleImputer(strategy='mean')),\n",
    "    ('scaler', StandardScaler())\n",
    "])\n",
    "preprocessor = ColumnTransformer(\n",
    "    transformers=[\n",
    "        ('num', numeric_transformer, numeric_features)\n",
    "    ]\n",
    ")\n",
    "X_numeric_processed = preprocessor.fit_transform(X)\n",
    "X_final = np.hstack((X[['Gender']].values, X_numeric_processed))\n",
    "X_final = pd.DataFrame(X_final, columns=['Gender', 'StudyHours', 'Attendance'])\n",
    "y = LabelEncoder().fit_transform(y)\n",
    "X_train, X_test, y_train, y_test = train_test_split(X_final, y, test_size=0.25, random_state=42)\n",
    "print(\"\\nProcessed Training Features:\\n\", X_train)\n",
    "print(\"\\nProcessed Training Labels:\\n\", y_train)\n"
   ]
  },
  {
   "cell_type": "code",
   "execution_count": null,
   "id": "8b22b68b-daa4-40e8-ba18-be8bf8014362",
   "metadata": {},
   "outputs": [],
   "source": []
  }
 ],
 "metadata": {
  "kernelspec": {
   "display_name": "Python [conda env:a1]",
   "language": "python",
   "name": "conda-env-a1-py"
  },
  "language_info": {
   "codemirror_mode": {
    "name": "ipython",
    "version": 3
   },
   "file_extension": ".py",
   "mimetype": "text/x-python",
   "name": "python",
   "nbconvert_exporter": "python",
   "pygments_lexer": "ipython3",
   "version": "3.13.5"
  }
 },
 "nbformat": 4,
 "nbformat_minor": 5
}
